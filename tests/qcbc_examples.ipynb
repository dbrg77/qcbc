{
  "nbformat": 4,
  "nbformat_minor": 0,
  "metadata": {
    "colab": {
      "provenance": [],
      "authorship_tag": "ABX9TyNogfCgHwq3uRJEkJyfdxHi",
      "include_colab_link": true
    },
    "kernelspec": {
      "name": "python3",
      "display_name": "Python 3"
    },
    "language_info": {
      "name": "python"
    }
  },
  "cells": [
    {
      "cell_type": "markdown",
      "metadata": {
        "id": "view-in-github",
        "colab_type": "text"
      },
      "source": [
        "<a href=\"https://colab.research.google.com/github/pachterlab/qcbc/blob/main/tests/qcbc_examples.ipynb\" target=\"_parent\"><img src=\"https://colab.research.google.com/assets/colab-badge.svg\" alt=\"Open In Colab\"/></a>"
      ]
    },
    {
      "cell_type": "code",
      "execution_count": 5,
      "metadata": {
        "colab": {
          "base_uri": "https://localhost:8080/"
        },
        "id": "umP7XnNvQ_5N",
        "outputId": "09e4d415-5a78-4943-f105-5aeafbf1be0e"
      },
      "outputs": [
        {
          "output_type": "stream",
          "name": "stdout",
          "text": [
            "Looking in indexes: https://pypi.org/simple, https://us-python.pkg.dev/colab-wheels/public/simple/\n",
            "Collecting qcbc\n",
            "  Downloading qcbc-0.0.2-py3-none-any.whl (12 kB)\n",
            "Requirement already satisfied: scipy==1.7.3 in /usr/local/lib/python3.8/dist-packages (from qcbc) (1.7.3)\n",
            "Requirement already satisfied: numpy==1.21.6 in /usr/local/lib/python3.8/dist-packages (from qcbc) (1.21.6)\n",
            "Installing collected packages: qcbc\n",
            "Successfully installed qcbc-0.0.2\n"
          ]
        }
      ],
      "source": [
        "!pip install qcbc"
      ]
    },
    {
      "cell_type": "code",
      "source": [
        "bcs = \"\"\"\n",
        "AAGGCAGACG\n",
        "GGCTGCGCAC\n",
        "TAGTTGACAT\n",
        "GACGCGCGTT\n",
        "AGCGAACCGC\n",
        "TTACTACGTA\n",
        "AGTAATGCAT\n",
        "CAGCCTATGC\n",
        "ATCGAACCGA\n",
        "CACTCCTTGA\n",
        "CTCAAGCATT\n",
        "GCCAAGATCA\n",
        "CGGTTAGCGC\n",
        "GCATTGCGTC\n",
        "CTGGTCGAAC\n",
        "TCCGATCCTG\n",
        "ATAATCATTA\n",
        "GTTCAAGCTT\n",
        "TTCATCTCCA\n",
        "TAGGTTACGA\n",
        "CAAGCGCGGC\n",
        "CTCGTCGCGC\n",
        "CATGGAGGCG\n",
        "TGACACCTGA\n",
        "AGACAGTGAT\n",
        "CCAATCGATA\n",
        "CGTACATGTA\n",
        "GGACGAGTTC\n",
        "GCGGCTCTGT\n",
        "TTGTCACGGT\n",
        "\"\"\"\n",
        "\n",
        "# write to file\n",
        "with open(\"mybcs.txt\", 'w') as f:\n",
        "  for idx,b in enumerate(bcs.strip().split(\"\\n\"), 1):\n",
        "    f.write(f\"{b}\\tbc{idx}\\n\")"
      ],
      "metadata": {
        "id": "fpk1SSaDRa6I"
      },
      "execution_count": 35,
      "outputs": []
    },
    {
      "cell_type": "code",
      "source": [
        "!cat mybcs.txt"
      ],
      "metadata": {
        "colab": {
          "base_uri": "https://localhost:8080/"
        },
        "id": "t4ut3tBVRQY6",
        "outputId": "6c69352a-c328-4ca5-a74c-d67b9c3bbc72"
      },
      "execution_count": 36,
      "outputs": [
        {
          "output_type": "stream",
          "name": "stdout",
          "text": [
            "AAGGCAGACG\tbc1\n",
            "GGCTGCGCAC\tbc2\n",
            "TAGTTGACAT\tbc3\n",
            "GACGCGCGTT\tbc4\n",
            "AGCGAACCGC\tbc5\n",
            "TTACTACGTA\tbc6\n",
            "AGTAATGCAT\tbc7\n",
            "CAGCCTATGC\tbc8\n",
            "ATCGAACCGA\tbc9\n",
            "CACTCCTTGA\tbc10\n",
            "CTCAAGCATT\tbc11\n",
            "GCCAAGATCA\tbc12\n",
            "CGGTTAGCGC\tbc13\n",
            "GCATTGCGTC\tbc14\n",
            "CTGGTCGAAC\tbc15\n",
            "TCCGATCCTG\tbc16\n",
            "ATAATCATTA\tbc17\n",
            "GTTCAAGCTT\tbc18\n",
            "TTCATCTCCA\tbc19\n",
            "TAGGTTACGA\tbc20\n",
            "CAAGCGCGGC\tbc21\n",
            "CTCGTCGCGC\tbc22\n",
            "CATGGAGGCG\tbc23\n",
            "TGACACCTGA\tbc24\n",
            "AGACAGTGAT\tbc25\n",
            "CCAATCGATA\tbc26\n",
            "CGTACATGTA\tbc27\n",
            "GGACGAGTTC\tbc28\n",
            "GCGGCTCTGT\tbc29\n",
            "TTGTCACGGT\tbc30\n"
          ]
        }
      ]
    },
    {
      "cell_type": "code",
      "source": [
        "!qcbc volume mybcs.txt"
      ],
      "metadata": {
        "colab": {
          "base_uri": "https://localhost:8080/"
        },
        "id": "JKV7eVxHR8Uq",
        "outputId": "4e29e781-9d94-49bf-dc4d-19fff358e8b6"
      },
      "execution_count": 37,
      "outputs": [
        {
          "output_type": "stream",
          "name": "stdout",
          "text": [
            "30 out of 1,048,576 possible unique barcodes representing 0.0029%\n"
          ]
        }
      ]
    },
    {
      "cell_type": "code",
      "source": [
        "# there are 2 barcodes that share a length seven subsequence\n",
        "!qcbc ambiguous -l 7 mybcs.txt"
      ],
      "metadata": {
        "colab": {
          "base_uri": "https://localhost:8080/"
        },
        "id": "RSEkt0rcSEqu",
        "outputId": "c3ffa458-91a1-4bdf-fc73-2b3fc20cff9b"
      },
      "execution_count": 38,
      "outputs": [
        {
          "output_type": "stream",
          "name": "stdout",
          "text": [
            "CGAACCG\tbc5,bc9\n"
          ]
        }
      ]
    },
    {
      "cell_type": "code",
      "source": [
        "# the minimum pairwise hamming distance between any two barcodes is 2\n",
        "!qcbc pdist mybcs.txt | sort -n -k 5 | head"
      ],
      "metadata": {
        "colab": {
          "base_uri": "https://localhost:8080/"
        },
        "id": "2573HIJxSbjL",
        "outputId": "df36257f-bf50-4709-8c94-9d7e17e723e6"
      },
      "execution_count": 39,
      "outputs": [
        {
          "output_type": "stream",
          "name": "stdout",
          "text": [
            "AGCGAACCGC\tbc5\tATCGAACCGA\tbc9\t2.0\n",
            "CTGGTCGAAC\tbc15\tCTCGTCGCGC\tbc22\t3.0\n",
            "AAGGCAGACG\tbc1\tCATGGAGGCG\tbc23\t4.0\n",
            "ATAATCATTA\tbc17\tCCAATCGATA\tbc26\t4.0\n",
            "CGGTTAGCGC\tbc13\tCTCGTCGCGC\tbc22\t4.0\n",
            "GACGCGCGTT\tbc4\tCAAGCGCGGC\tbc21\t4.0\n",
            "TAGTTGACAT\tbc3\tTAGGTTACGA\tbc20\t4.0\n",
            "AGCGAACCGC\tbc5\tCGGTTAGCGC\tbc13\t5.0\n",
            "AGCGAACCGC\tbc5\tCTCGTCGCGC\tbc22\t5.0\n",
            "AGCGAACCGC\tbc5\tTCCGATCCTG\tbc16\t5.0\n"
          ]
        }
      ]
    },
    {
      "cell_type": "code",
      "source": [
        "# the minimum pairwise hamming distance between any two barcodes is 2\n",
        "!qcbc pdist -rc mybcs.txt | sort -n -k 5 | head"
      ],
      "metadata": {
        "colab": {
          "base_uri": "https://localhost:8080/"
        },
        "id": "YBnlw5zrSzl9",
        "outputId": "2faf7acb-4f8e-447d-e1b5-664252047e8f"
      },
      "execution_count": 40,
      "outputs": [
        {
          "output_type": "stream",
          "name": "stdout",
          "text": [
            "AGCGAACCGC\tbc5\tTCGGTTCGAT\tbc9_rc\t2.0\n",
            "CTGGTCGAAC\tbc15\tGCGCGACGAG\tbc22_rc\t3.0\n",
            "AAGGCAGACG\tbc1\tCGCCTCCATG\tbc23_rc\t4.0\n",
            "ATAATCATTA\tbc17\tTATCGATTGG\tbc26_rc\t4.0\n",
            "CGGTTAGCGC\tbc13\tGCGCGACGAG\tbc22_rc\t4.0\n",
            "GACGCGCGTT\tbc4\tGCCGCGCTTG\tbc21_rc\t4.0\n",
            "TAGTTGACAT\tbc3\tTCGTAACCTA\tbc20_rc\t4.0\n",
            "AGCGAACCGC\tbc5\tCAGGATCGGA\tbc16_rc\t5.0\n",
            "AGCGAACCGC\tbc5\tGCGCGACGAG\tbc22_rc\t5.0\n",
            "AGCGAACCGC\tbc5\tGCGCTAACCG\tbc13_rc\t5.0\n"
          ]
        }
      ]
    },
    {
      "cell_type": "code",
      "source": [
        "# homopolymer distribution (length > 2), \n",
        "# no barcode has a homopolymer of length 3 or greater\n",
        "# bc18 has 3 homopolymers of length 2\n",
        "!qcbc homopolymer mybcs.txt"
      ],
      "metadata": {
        "colab": {
          "base_uri": "https://localhost:8080/"
        },
        "id": "gI52yfxuTHkD",
        "outputId": "1ba18108-a2a9-4327-d32f-4fec92d6bf3f"
      },
      "execution_count": 41,
      "outputs": [
        {
          "output_type": "stream",
          "name": "stdout",
          "text": [
            "name\tseq\thomopolymer_length\n",
            "bc1\tAAGGCAGACG\t2,0,0,0,0,0,0,0,0\n",
            "bc2\tGGCTGCGCAC\t1,0,0,0,0,0,0,0,0\n",
            "bc3\tTAGTTGACAT\t1,0,0,0,0,0,0,0,0\n",
            "bc4\tGACGCGCGTT\t1,0,0,0,0,0,0,0,0\n",
            "bc5\tAGCGAACCGC\t2,0,0,0,0,0,0,0,0\n",
            "bc6\tTTACTACGTA\t1,0,0,0,0,0,0,0,0\n",
            "bc7\tAGTAATGCAT\t1,0,0,0,0,0,0,0,0\n",
            "bc8\tCAGCCTATGC\t1,0,0,0,0,0,0,0,0\n",
            "bc9\tATCGAACCGA\t2,0,0,0,0,0,0,0,0\n",
            "bc10\tCACTCCTTGA\t2,0,0,0,0,0,0,0,0\n",
            "bc11\tCTCAAGCATT\t2,0,0,0,0,0,0,0,0\n",
            "bc12\tGCCAAGATCA\t2,0,0,0,0,0,0,0,0\n",
            "bc13\tCGGTTAGCGC\t2,0,0,0,0,0,0,0,0\n",
            "bc14\tGCATTGCGTC\t1,0,0,0,0,0,0,0,0\n",
            "bc15\tCTGGTCGAAC\t2,0,0,0,0,0,0,0,0\n",
            "bc16\tTCCGATCCTG\t2,0,0,0,0,0,0,0,0\n",
            "bc17\tATAATCATTA\t2,0,0,0,0,0,0,0,0\n",
            "bc18\tGTTCAAGCTT\t3,0,0,0,0,0,0,0,0\n",
            "bc19\tTTCATCTCCA\t2,0,0,0,0,0,0,0,0\n",
            "bc20\tTAGGTTACGA\t2,0,0,0,0,0,0,0,0\n",
            "bc21\tCAAGCGCGGC\t2,0,0,0,0,0,0,0,0\n",
            "bc22\tCTCGTCGCGC\t0,0,0,0,0,0,0,0,0\n",
            "bc23\tCATGGAGGCG\t2,0,0,0,0,0,0,0,0\n",
            "bc24\tTGACACCTGA\t1,0,0,0,0,0,0,0,0\n",
            "bc25\tAGACAGTGAT\t0,0,0,0,0,0,0,0,0\n",
            "bc26\tCCAATCGATA\t2,0,0,0,0,0,0,0,0\n",
            "bc27\tCGTACATGTA\t0,0,0,0,0,0,0,0,0\n",
            "bc28\tGGACGAGTTC\t2,0,0,0,0,0,0,0,0\n",
            "bc29\tGCGGCTCTGT\t1,0,0,0,0,0,0,0,0\n",
            "bc30\tTTGTCACGGT\t2,0,0,0,0,0,0,0,0\n"
          ]
        }
      ]
    },
    {
      "cell_type": "code",
      "source": [],
      "metadata": {
        "id": "4AHtSWXZTWO9"
      },
      "execution_count": 41,
      "outputs": []
    }
  ]
}